{
 "cells": [
  {
   "cell_type": "code",
   "execution_count": 5,
   "metadata": {
    "collapsed": true
   },
   "outputs": [],
   "source": [
    "import requests\n",
    "from urllib.parse import urlencode\n",
    "from bs4 import BeautifulSoup\n",
    "import time"
   ]
  },
  {
   "cell_type": "code",
   "execution_count": 19,
   "metadata": {
    "collapsed": true
   },
   "outputs": [],
   "source": [
    "#proxies = {'https' : 'https://localhost:8123','http' : 'http://localhost:8123'}\n",
    "user_agent = 'Mozilla/5.0 (Windows NT 6.1; WOW64) AppleWebKit/537.36 (KHTML, like Gecko) Chrome/48.0.2564.116 Safari/537.36'\n",
    "headers = { 'User-Agent' : user_agent}"
   ]
  },
  {
   "cell_type": "code",
   "execution_count": 24,
   "metadata": {},
   "outputs": [
    {
     "name": "stdout",
     "output_type": "stream",
     "text": [
      "Enter number of seconds to wait between URL checks: 10\n"
     ]
    }
   ],
   "source": [
    "line=\"https://www.pythonanywhere.com/forums/topic/9336/\"\n",
    "seconds = input('Enter number of seconds to wait between URL checks: ')"
   ]
  },
  {
   "cell_type": "code",
   "execution_count": 25,
   "metadata": {},
   "outputs": [
    {
     "name": "stdout",
     "output_type": "stream",
     "text": [
      "https://www.pythonanywhere.com/forums/topic/9336/ is indexed!\n"
     ]
    }
   ],
   "source": [
    "query = {'q': 'info:' + line}\n",
    "google = \"https://www.google.com/search?\" + urlencode(query)\n",
    "#data = requests.get(google, headers=headers,proxies=proxies)\n",
    "data = requests.get(google,headers=headers)\n",
    "data.encoding = 'ISO-8859-1'\n",
    "soup = BeautifulSoup(str(data.content), \"html.parser\")\n",
    "try:\n",
    "    check = soup.find(id=\"rso\").find(\"div\").find(\"div\").find(\"h3\").find(\"a\")\n",
    "    href = check['href']\n",
    "    #print(line + \" is indexed!\")\n",
    "    \n",
    "except AttributeError:\n",
    "    print(line + \" is NOT indexed!\")\n",
    "    print(\"Waiting \" + str(seconds) + \" seconds until checking next URL.\\n\")\n",
    "time.sleep(float(seconds))"
   ]
  }
 ],
 "metadata": {
  "kernelspec": {
   "display_name": "Python 3",
   "language": "python",
   "name": "python3"
  },
  "language_info": {
   "codemirror_mode": {
    "name": "ipython",
    "version": 3
   },
   "file_extension": ".py",
   "mimetype": "text/x-python",
   "name": "python",
   "nbconvert_exporter": "python",
   "pygments_lexer": "ipython3",
   "version": "3.6.1"
  }
 },
 "nbformat": 4,
 "nbformat_minor": 2
}
